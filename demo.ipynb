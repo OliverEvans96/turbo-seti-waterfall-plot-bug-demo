{
 "cells": [
  {
   "cell_type": "markdown",
   "metadata": {},
   "source": [
    "# Imports / definitions"
   ]
  },
  {
   "cell_type": "code",
   "execution_count": null,
   "metadata": {},
   "outputs": [],
   "source": [
    "import os\n",
    "import glob\n",
    "from IPython.display import display, Image\n",
    "from turbo_seti.find_event.plot_event_pipeline import plot_event_pipeline\n",
    "import download_progress\n",
    "%matplotlib inline"
   ]
  },
  {
   "cell_type": "code",
   "execution_count": null,
   "metadata": {},
   "outputs": [],
   "source": [
    "data_directory = 'voyager_2020_data' \n",
    "h5_list_path = os.path.join(data_directory,'h5_files.lst')\n",
    "csvf_path = os.path.join(data_directory, 'found_event_table.csv')"
   ]
  },
  {
   "cell_type": "markdown",
   "metadata": {},
   "source": [
    "# Download data"
   ]
  },
  {
   "cell_type": "code",
   "execution_count": null,
   "metadata": {},
   "outputs": [],
   "source": [
    "# Read the necessary URLs from data_urls.lst\n",
    "with open('data_urls.lst') as file:\n",
    "    data_urls = file.read().splitlines()\n",
    "\n",
    "# Download each one into a directory called 'data' if they aren't already present.\n",
    "for url in data_urls:\n",
    "    download_progress.download_file_with_progress_bar(url, download_dir=data_directory)"
   ]
  },
  {
   "cell_type": "markdown",
   "metadata": {},
   "source": [
    "# Inline plots"
   ]
  },
  {
   "cell_type": "code",
   "execution_count": null,
   "metadata": {},
   "outputs": [],
   "source": [
    "plot_event_pipeline(csvf_path,\n",
    "                    h5_list_path,\n",
    "                    filter_spec='f{}'.format(3),\n",
    "                    user_validation=False)"
   ]
  },
  {
   "cell_type": "markdown",
   "metadata": {},
   "source": [
    "# Load plots from `.png` files"
   ]
  },
  {
   "cell_type": "code",
   "execution_count": null,
   "metadata": {},
   "outputs": [],
   "source": [
    "for image_path in glob.iglob(os.path.join(data_directory, '*.png')):\n",
    "    print(image_path)\n",
    "    display(Image(filename=image_path) )"
   ]
  }
 ],
 "metadata": {
  "kernelspec": {
   "display_name": "turboSETI",
   "language": "python",
   "name": "turboseti"
  },
  "language_info": {
   "codemirror_mode": {
    "name": "ipython",
    "version": 3
   },
   "file_extension": ".py",
   "mimetype": "text/x-python",
   "name": "python",
   "nbconvert_exporter": "python",
   "pygments_lexer": "ipython3",
   "version": "3.7.9"
  },
  "widgets": {
   "application/vnd.jupyter.widget-state+json": {
    "state": {},
    "version_major": 2,
    "version_minor": 0
   }
  }
 },
 "nbformat": 4,
 "nbformat_minor": 4
}
